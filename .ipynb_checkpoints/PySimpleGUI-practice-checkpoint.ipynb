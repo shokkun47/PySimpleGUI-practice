{
 "cells": [
  {
   "cell_type": "code",
   "execution_count": 3,
   "id": "5b5aafaf-e2bd-4cf2-9755-c91d587b1e19",
   "metadata": {},
   "outputs": [
    {
     "name": "stdout",
     "output_type": "stream",
     "text": [
      "Requirement already satisfied: pysimplegui in c:\\users\\shoki\\anaconda3\\lib\\site-packages (5.0.7)\n",
      "Requirement already satisfied: rsa in c:\\users\\shoki\\anaconda3\\lib\\site-packages (from pysimplegui) (4.9)\n",
      "Requirement already satisfied: pyasn1>=0.1.3 in c:\\users\\shoki\\anaconda3\\lib\\site-packages (from rsa->pysimplegui) (0.4.8)\n",
      "Note: you may need to restart the kernel to use updated packages.\n"
     ]
    }
   ],
   "source": [
    "pip install pysimplegui"
   ]
  },
  {
   "cell_type": "code",
   "execution_count": 5,
   "id": "494fd1b2-b7f3-4562-8462-86fcc81657cf",
   "metadata": {},
   "outputs": [],
   "source": [
    "import PySimpleGUI as sg\n",
    "\n",
    "layout = [\n",
    "    [sg.Text(\"お名前は？\")],\n",
    "    [sg.Input(key=\"name\")],\n",
    "    [sg.Button(\"決定\",key=\"bt\")]\n",
    "]\n",
    "window = sg.Window(\"こんにちは\", layout)\n",
    "event, values = window.read()\n",
    "\n",
    "if event == \"bt\":\n",
    "    sg.Popup(values[\"name\"] +  \"さん　ありがとうございます\", title = \"(^^)\")\n",
    "\n",
    "window.close()\n"
   ]
  },
  {
   "cell_type": "code",
   "execution_count": 2,
   "id": "ac8725d7-3980-4657-8b69-c65f8558020b",
   "metadata": {},
   "outputs": [],
   "source": [
    "import PySimpleGUI as sg\n",
    "import random\n",
    "import time\n",
    "\n",
    "secret_number = random.randint(1, 100)\n",
    "attempts = 0\n",
    "\n",
    "layout = [\n",
    "    [sg.Text(\"1から100までの数を当ててください\")],\n",
    "    [sg.Input(key=\"guess\")],\n",
    "    [sg.Button(\"判定\", key=\"check\"), sg.Button(\"終了\", key=\"exit\")],\n",
    "    [sg.Text(\"\", key=\"output\")]\n",
    "]\n",
    "\n",
    "window = sg.Window(\"数当てゲーム\", layout)\n",
    "\n",
    "while True:\n",
    "    event, values = window.read()\n",
    "\n",
    "    if event == sg.WINDOW_CLOSED or event == \"exit\":\n",
    "        break\n",
    "\n",
    "    if event == \"check\":\n",
    "        guess = values[\"guess\"]\n",
    "\n",
    "        if guess.isdigit():\n",
    "            guess = int(guess)\n",
    "            attempts += 1\n",
    "\n",
    "            if guess < secret_number:\n",
    "                window[\"output\"].update(f\"{guess}は小さいです。もう一度\")\n",
    "            elif guess > secret_number:\n",
    "                window[\"output\"].update(f\"{guess}は大きいです。もう一度\")\n",
    "            else:\n",
    "                window[\"output\"].update(f\"正解です!{attempts}回で当てました\")\n",
    "                time.sleep(3)\n",
    "                break\n",
    "        else:\n",
    "            window[\"output\"].update(\"数字を入力してください\")\n",
    "\n",
    "window.close()\n",
    "\n",
    "    "
   ]
  },
  {
   "cell_type": "code",
   "execution_count": null,
   "id": "fd465cb7-f6a2-4da6-bdde-001390b72f56",
   "metadata": {},
   "outputs": [],
   "source": []
  }
 ],
 "metadata": {
  "kernelspec": {
   "display_name": "Python 3 (ipykernel)",
   "language": "python",
   "name": "python3"
  },
  "language_info": {
   "codemirror_mode": {
    "name": "ipython",
    "version": 3
   },
   "file_extension": ".py",
   "mimetype": "text/x-python",
   "name": "python",
   "nbconvert_exporter": "python",
   "pygments_lexer": "ipython3",
   "version": "3.12.4"
  }
 },
 "nbformat": 4,
 "nbformat_minor": 5
}
